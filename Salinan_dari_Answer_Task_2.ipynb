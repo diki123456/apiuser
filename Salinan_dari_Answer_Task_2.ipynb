{
  "nbformat": 4,
  "nbformat_minor": 0,
  "metadata": {
    "colab": {
      "provenance": [],
      "include_colab_link": true
    },
    "kernelspec": {
      "name": "python3",
      "display_name": "Python 3"
    },
    "language_info": {
      "name": "python"
    }
  },
  "cells": [
    {
      "cell_type": "markdown",
      "metadata": {
        "id": "view-in-github",
        "colab_type": "text"
      },
      "source": [
        "<a href=\"https://colab.research.google.com/github/diki123456/apiuser/blob/master/Salinan_dari_Answer_Task_2.ipynb\" target=\"_parent\"><img src=\"https://colab.research.google.com/assets/colab-badge.svg\" alt=\"Open In Colab\"/></a>"
      ]
    },
    {
      "cell_type": "markdown",
      "metadata": {
        "id": "6vw3ime_O-R-"
      },
      "source": [
        "Buatlah variabel dengan nama ClubEropa dengan tipe data dictionary 4 key (nama_club, \n",
        "pelatih_club, Negara, pelatih), yang masing-masing nya memiliki 4 value"
      ]
    },
    {
      "cell_type": "code",
      "metadata": {
        "colab": {
          "base_uri": "https://localhost:8080/"
        },
        "id": "-ghQQbtxO9F2",
        "outputId": "e0ecf56a-cfa5-478a-f1c8-5b0041bee15f"
      },
      "source": [
        "#1\n",
        "club_eropa = {\n",
        "    \"nama_club\":[\"fcb\",\"lvc\",\"cfc\",\"persija\"],\n",
        "    \"pelatih_club\":[\"rv\",\"kl\",\"mj\",\"jono\"],\n",
        "    \"negara\":[\"ind\",\"mly\",\"aus\",\"jpn\"],\n",
        "    \"pelatih\":[\"pp\",\"jk\",\"op\",\"kl\"]\n",
        "    }\n",
        "\n",
        "print(club_eropa)"
      ],
      "execution_count": null,
      "outputs": [
        {
          "output_type": "stream",
          "name": "stdout",
          "text": [
            "{'nama_club': ['fcb', 'lvc', 'cfc', 'persija'], 'pelatih_club': ['rv', 'kl', 'mj', 'jono'], 'negara': ['ind', 'mly', 'aus', 'jpn'], 'pelatih': ['pp', 'jk', 'op', 'kl']}\n"
          ]
        }
      ]
    },
    {
      "cell_type": "markdown",
      "metadata": {
        "id": "f1Nc_rFpQphK"
      },
      "source": [
        "Tambahkan key sponsor pada variabel ClubEropa yang tentunya memiliki 4 value"
      ]
    },
    {
      "cell_type": "code",
      "metadata": {
        "colab": {
          "base_uri": "https://localhost:8080/"
        },
        "id": "Q1IcinKDQZgh",
        "outputId": "bd11b859-1593-4e81-bcb0-0b92a58d09ad"
      },
      "source": [
        "#2 \n",
        "sponsor = {\"sponsor\":[\"ol\",\"tok\",\"lh\",\"gh\"]}\n",
        "club_eropa.update(sponsor)\n",
        "print(club_eropa)\n"
      ],
      "execution_count": null,
      "outputs": [
        {
          "output_type": "stream",
          "name": "stdout",
          "text": [
            "{'nama_club': ['fcb', 'lvc', 'cfc', 'persija'], 'pelatih_club': ['rv', 'kl', 'mj', 'jono'], 'negara': ['ind', 'mly', 'aus', 'jpn'], 'pelatih': ['pp', 'jk', 'op', 'kl'], 'sponsor': ['ol', 'tok', 'lh', 'gh']}\n"
          ]
        }
      ]
    },
    {
      "cell_type": "markdown",
      "metadata": {
        "id": "NOoGB0hyRaGF"
      },
      "source": [
        " Buatlah 4 variable array yang memiliki 5 elemen angka pada masing-masing nya (bebas nama \n",
        "array dan elemennya), kemudian lakukan:\n",
        "a. Perkalian pada variable array 1 dengan variable array 3\n",
        "b. Penjumlahan pada variable array 2 dengan variable array 4\n",
        "b. Jika ada irisan, dapatkan irisan pada variable 1 dengan 4\n",
        "c. Ambil nilai pada urutan ke 1, 3, dan 5 pada variabel kedu"
      ]
    },
    {
      "cell_type": "code",
      "metadata": {
        "colab": {
          "base_uri": "https://localhost:8080/"
        },
        "id": "9eTtihRQRDUr",
        "outputId": "973d9b02-e3ca-494e-d357-1a57b4c888e7"
      },
      "source": [
        "#3\n",
        "import numpy as np\n",
        "a = np.array([2,3,4,5,6])\n",
        "b = np.array([4,5,6,7,8])\n",
        "c = np.array([1,0,7,9,5])\n",
        "d = np.array([2,4,5,6,7])\n",
        "\n",
        "print(a * c)\n",
        "print(b + d)\n",
        "print(np.intersect1d(a,d))\n",
        "print(b[[0, 2, 4]])"
      ],
      "execution_count": null,
      "outputs": [
        {
          "output_type": "stream",
          "name": "stdout",
          "text": [
            "[ 2  0 28 45 30]\n",
            "[ 6  9 11 13 15]\n",
            "[2 4 5 6]\n",
            "[4 6 8]\n"
          ]
        }
      ]
    },
    {
      "cell_type": "markdown",
      "metadata": {
        "id": "SkxUWYgDUjTN"
      },
      "source": [
        "Buatlah variabel nilai_kelas dari 4 kelas berbeda, dimana\n",
        "masing-masing kelas berisi nilai 4 siswa, kemudian kurangi semua\n",
        "nilai siswa dengan 5 sebagai nilai hukuman karena menyontek"
      ]
    },
    {
      "cell_type": "code",
      "metadata": {
        "colab": {
          "base_uri": "https://localhost:8080/"
        },
        "id": "pzlyJw9bULyt",
        "outputId": "0e7fef33-370b-4445-e596-1b91d39eb01d"
      },
      "source": [
        "#4\n",
        "nilai_kelas = np.array([[20,30,40,50], \n",
        "                        [40,30,60,100],\n",
        "                        [50,60,70,90],\n",
        "                        [60,50,90,50]])\n",
        "\n",
        "hukuman = nilai_kelas - 5\n",
        "print(hukuman)"
      ],
      "execution_count": null,
      "outputs": [
        {
          "output_type": "stream",
          "name": "stdout",
          "text": [
            "[[15 25 35 45]\n",
            " [35 25 55 95]\n",
            " [45 55 65 85]\n",
            " [55 45 85 45]]\n"
          ]
        }
      ]
    }
  ]
}